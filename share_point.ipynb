{
 "cells": [
  {
   "cell_type": "code",
   "execution_count": null,
   "metadata": {},
   "outputs": [],
   "source": [
    "from office365.sharepoint.client_context import ClientContext\n",
    "from office365.runtime.auth.client_credential import ClientCredential\n",
    "from dotenv import load_dotenv\n",
    "import os\n",
    "import io"
   ]
  },
  {
   "cell_type": "code",
   "execution_count": null,
   "metadata": {},
   "outputs": [],
   "source": [
    "load_dotenv()\n",
    "CLIENT_ID = os.getenv('CLIENT_ID')\n",
    "CLIENT_SECRET = os.getenv('CLIENT_SECRET')\n",
    "\n",
    "# site_url = \"https://tjce365.sharepoint.com/sites/AcompanhamentoDeContratos/SitePages/CollabHome.aspx\"\n",
    "site_url = \"https://tjce365.sharepoint.com/sites/AcompanhamentoDeContratos\"\n",
    "credentials = ClientCredential(CLIENT_ID, CLIENT_SECRET)\n",
    "context = ClientContext(site_url).with_credentials(credentials)\n",
    "\n",
    "# sheet_url = \"/sites/AcompanhamentoDeContratos/Documentos%20Compartilhados/RH%20TERCEIRIZA%C3%87%C3%83O%202024/00.%20CONTROLES/EMAILS%20INTERNOS%20E%20EXTERNOS/Rela%C3%A7%C3%A3o%20de%20Emails%20Externos%20-%20Empresas.xlsx?d=w9faedb00ffb7496790dde49cb89fe89e&csf=1&web=1&e=HMWbPJ\"\n",
    "sheet_url = \"/sites/AcompanhamentoDeContratos/Documentos%20Compartilhados/RH%20TERCEIRIZA%C3%87%C3%83O%202024/00.%20CONTROLES/EMAILS%20INTERNOS%20E%20EXTERNOS/Rela%C3%A7%C3%A3o%20de%20Emails%20Externos%20-%20Empresas.xlsx\"\n",
    "\n",
    "bytes_file_obj = io.BytesIO()\n",
    "\n",
    "try:\n",
    "    response = context.web.get_file_by_server_relative_url(sheet_url).download(bytes_file_obj).execute_query()\n",
    "    bytes_file_obj.write(response.content)\n",
    "    bytes_file_obj.seek(0)\n",
    "except Exception as error:\n",
    "    print(\"Erro ao tentar acessar o SharePoint\")\n",
    "    print(error)\n",
    "\n"
   ]
  }
 ],
 "metadata": {
  "language_info": {
   "name": "python"
  }
 },
 "nbformat": 4,
 "nbformat_minor": 2
}
