{
 "cells": [
  {
   "cell_type": "code",
   "execution_count": 1,
   "metadata": {},
   "outputs": [
    {
     "name": "stderr",
     "output_type": "stream",
     "text": [
      "C:\\Users\\luigi\\AppData\\Local\\Temp\\ipykernel_11184\\1703137505.py:1: DeprecationWarning: \n",
      "Pyarrow will become a required dependency of pandas in the next major release of pandas (pandas 3.0),\n",
      "(to allow more performant data types, such as the Arrow string type, and better interoperability with other libraries)\n",
      "but was not found to be installed on your system.\n",
      "If this would cause problems for you,\n",
      "please provide us feedback at https://github.com/pandas-dev/pandas/issues/54466\n",
      "        \n",
      "  import pandas as pd\n"
     ]
    }
   ],
   "source": [
    "import pandas as pd\n",
    "import win32com.client as win32\n",
    "import os\n",
    "import io\n",
    "from dotenv import load_dotenv\n",
    "from buttons import get_month, get_option"
   ]
  },
  {
   "cell_type": "code",
   "execution_count": 2,
   "metadata": {},
   "outputs": [
    {
     "name": "stdout",
     "output_type": "stream",
     "text": [
      "Lista dos contratos trabalhados:\n",
      "------------------------------------\n",
      "41/2021 (Higienização e Digitalização)\n",
      "41/2024 (Saúde)\n",
      "20/2022 (Secretariado)\n",
      "36/2024 (Asseio)\n",
      "48/2022 (Serviço Operacional)\n",
      "15/2019 (Mensageria)\n",
      "63/2023 (Recepção e Atendimento)\n",
      "25/2022 (Estatisticos)\n",
      "43/2022 (Cerimonial)\n",
      "38/2024 (Educação)\n",
      "22/2021 (Gráfica)\n",
      "42/2023 (Condutores)\n",
      "------------------------------------\n",
      "12 contratos encontrados.\n"
     ]
    }
   ],
   "source": [
    "# DADOS DO CONTRATO\n",
    "\n",
    "# Lê a relação de e-mails das empresas - Excel\n",
    "load_dotenv()\n",
    "SHEET_PATH = os.getenv('SHEET_PATH')\n",
    "dfContratos = pd.read_excel(SHEET_PATH, sheet_name='Listagens')\n",
    "numContrato = dfContratos['Nº Contrato'].tolist()\n",
    "nomeContrato = dfContratos['Contrato'].tolist()\n",
    "\n",
    "# Retorna informações dos contratos (apenas para visualização)\n",
    "print('Lista dos contratos trabalhados:')\n",
    "print('------------------------------------')\n",
    "col1 = 0\n",
    "col2 = 0\n",
    "qtdContratos = []\n",
    "while(col1 < len(dfContratos)):\n",
    "    while(col2 < len(dfContratos)):\n",
    "        print(numContrato[col1] + \" (\" + nomeContrato[col2] + \")\")\n",
    "        qtdContratos.append(numContrato[col1])\n",
    "        col2 = col2 + 1\n",
    "        break\n",
    "    col1 = col1 + 1\n",
    "print('------------------------------------')\n",
    "print(f'{len(qtdContratos)} contratos encontrados.')"
   ]
  },
  {
   "cell_type": "code",
   "execution_count": 3,
   "metadata": {},
   "outputs": [
    {
     "name": "stdout",
     "output_type": "stream",
     "text": [
      "Contrato(s) com grupo de e-mails vazio: ['Condutores']\n",
      "\n",
      "Lista dos e-mails trabalhados:\n",
      "------------------------------------\n",
      "['apadafortaleza@hotmail.com']\n",
      "['comercial@athosassessoriaeservicos.com.br']\n",
      "['clarear.operacional2@gmail.com; faturamento@clarearserv.com.br; clarear.faturamento@gmail.com']\n",
      "['contec.tjce@contecterceirizacao.com.br; financeiro@contecterceirizacao.com.br']\n",
      "['faturamento.futuraservicos@gmail.com; contratos@futuraserv.com.br']\n",
      "['valeria@grupogestor.com.br']\n",
      "['valeria@grupogestor.com.br']\n",
      "['mvrsouzaservicos@hotmail.com']\n",
      "['faturamento07@plansul.com.br; faturamento04@plansul.net.br; plansul.ce@plansul.net.br']\n",
      "['gestaodecontratos1@servitium.com.br; rh@servitium.com.br; dp@servitium.com.br']\n",
      "['severino@soll.eng.br; cyreldo@soll.eng.br; yasmim@soll.eng.br']\n",
      "------------------------------------\n",
      "11 grupo de e-mails encontrados.\n"
     ]
    }
   ],
   "source": [
    "# LISTAGEM DE E-MAILS E DESTINATÁRIOS\n",
    "\n",
    "# COORDENADORIA - CAC\n",
    "mailingSetor = [\"felipe.matos@tjce.jus.br; lucas.rocha@tjce.jus.br; valeria.monteiro@tjce.jus.br; fransilvia.paiva@tjce.jus.br; ana.sousa6@tjce.jus.br\"]\n",
    "\n",
    "# EMPRESAS\n",
    "mailingEmpresas = []\n",
    "mailingEmpresasTest = []\n",
    "mailingEmpresasEmpty = []\n",
    "for i in range(len(dfContratos)):\n",
    "    contrato = dfContratos.loc[i, 'Contrato']\n",
    "    destinatario = dfContratos.loc[i, 'Endereços de Emails']\n",
    "    destin_teste = dfContratos.loc[i, 'Emails Teste']    \n",
    "    if pd.isna(destinatario):\n",
    "        mailingEmpresasEmpty.append(contrato)\n",
    "        print(f'Contrato(s) com grupo de e-mails vazio: {mailingEmpresasEmpty}\\n')\n",
    "    else:\n",
    "        # Adicionar o email à lista do mesmo grupo\n",
    "        if i > 0 and contrato == dfContratos.loc[i-1, 'Contrato']:\n",
    "            mailingEmpresas[-1].append(destinatario)\n",
    "            mailingEmpresasTest[-1].append(destin_teste)\n",
    "            \n",
    "        # Criar um novo grupo e adicionar o primeiro email\n",
    "        else:\n",
    "            mailingEmpresas.append([destinatario])\n",
    "            mailingEmpresasTest.append([destin_teste])\n",
    "\n",
    "\n",
    "# Listar emails\n",
    "print('Lista dos e-mails trabalhados:')\n",
    "print('------------------------------------')\n",
    "for emails in mailingEmpresas:\n",
    "    print(emails)\n",
    "print('------------------------------------')\n",
    "print(f'{len(mailingEmpresas)} grupo de e-mails encontrados.')\n"
   ]
  },
  {
   "cell_type": "code",
   "execution_count": 8,
   "metadata": {},
   "outputs": [],
   "source": [
    "# ELABORAÇÃO DO EMAIL\n",
    "def create_email(assunto, anexo, corpoEmail, emailTo, emailCC=None):\n",
    "    outlook = win32.Dispatch('outlook.application')\n",
    "    email = outlook.CreateItem(0)\n",
    "    email.Subject = assunto\n",
    "    email.To = \";\".join(emailTo)\n",
    "    email.CC = \";\".join(emailCC) if emailCC is not None else \"\"\n",
    "    email.Attachments.Add(anexo)\n",
    "    email.HTMLBody = corpoEmail\n",
    "    email.Send()"
   ]
  },
  {
   "cell_type": "code",
   "execution_count": 10,
   "metadata": {},
   "outputs": [
    {
     "name": "stdout",
     "output_type": "stream",
     "text": [
      "\n",
      "Mês de referência: MAIO\n",
      "\n",
      "Lista dos e-mails enviados:\n",
      "------------------------------------\n",
      "------------------------------------\n",
      "Qtd de e-mails enviados: 11\n",
      "\n",
      "E-mail não enviado para o(s) contrato(s): ['Condutores']\n"
     ]
    }
   ],
   "source": [
    "# ELABORAÇÃO DO EMAIL\n",
    "i = 0\n",
    "ref_month = get_month()\n",
    "option = get_option()\n",
    "print(f'\\nMês de referência: {ref_month}\\n')\n",
    "qtd_emails = []\n",
    "\n",
    "print('Lista dos e-mails enviados:')\n",
    "print('------------------------------------')\n",
    "# ENVIO DO EMAIL\n",
    "while i < len(mailingEmpresas):\n",
    "\n",
    "    assunto = f\"\"\"Listagem atualizada dos colaboradores ativos - {ref_month}/2024 - CT Nº {numContrato[i]} ({nomeContrato[i]})\"\"\"\n",
    "    load_dotenv()\n",
    "    anexo = os.getenv('ATTACHMENT')\n",
    "    corpoEmail = f\"\"\"\n",
    "    <p>Prezados, boa tarde.</p>\n",
    "\n",
    "    <p>Por gentileza, providenciar a <strong>LISTAGEM ATUALIZADA DE MOVIMENTAÇÕES DE COLABORADORES</strong> \n",
    "    durante o mês de <strong>{ref_month}</strong>, referente ao <strong>CONTRATO Nº {numContrato[i]} ({nomeContrato[i]})</strong>, \n",
    "    em formato de planilha, contendo as movimentações deste mês ocorridas até o presente momento.</p>\n",
    "\n",
    "    <p>Enfatizo que deve ser enviada a planilha modelo padrão, a qual segue anexa, devidamente preenchida.</p>\n",
    "\n",
    "    <p><em>Obs.: Reforço ainda que na planilha, há as orientações do quê e como deve ser preenchido. Pedimos também, por gentileza, \n",
    "    que não alterem a quantidade de linhas ou de colunas da planilha nem nome de campos ou de abas. Por fim, mantemo-nos à disposição para sanar quaisquer dúvidas.</em>\n",
    "\n",
    "    <p>Gratidão!</p>\n",
    "\n",
    "    <p></p>\n",
    "    <p>Atenciosamente,</p>\n",
    "\n",
    "    <strong><em><font color=\"#00642D\"; font size=2>Luigi Teles Alcântara de Castro</font></em></strong><br>\n",
    "    <em><font size=2>Coordenadoria de Acombanhamento de Contratos (CAC)</font></em><br>\n",
    "    <em><font size=2>Tribunal de Justiça do Estado do Ceará</font></em><br>\n",
    "    \"\"\"\n",
    "    \n",
    "    if option.upper() == \"TESTE\":\n",
    "        create_email(assunto, anexo, corpoEmail, mailingEmpresasTest[i])\n",
    "        print(f\"E-mail teste do contrato {nomeContrato[i]} enviado para: {mailingEmpresasTest[i]}\")\n",
    "    # else:\n",
    "    #     create_email(assunto, anexo, corpoEmail, mailingEmpresas[i], mailingSetor)\n",
    "    #     print(f\"E-mail do contrato {nomeContrato[i]} enviado para: {mailingEmpresas[i]}\")\n",
    "    \n",
    "    qtd_emails.append([create_email])\n",
    "    i += 1\n",
    "    \n",
    "print('------------------------------------')\n",
    "print(f'Qtd de e-mails enviados: {len(qtd_emails)}')\n",
    "print(f\"\\nE-mail não enviado para o(s) contrato(s): {mailingEmpresasEmpty}\")\n",
    "    \n"
   ]
  }
 ],
 "metadata": {
  "kernelspec": {
   "display_name": "base",
   "language": "python",
   "name": "python3"
  },
  "language_info": {
   "codemirror_mode": {
    "name": "ipython",
    "version": 3
   },
   "file_extension": ".py",
   "mimetype": "text/x-python",
   "name": "python",
   "nbconvert_exporter": "python",
   "pygments_lexer": "ipython3",
   "version": "3.11.4"
  },
  "orig_nbformat": 4
 },
 "nbformat": 4,
 "nbformat_minor": 2
}
